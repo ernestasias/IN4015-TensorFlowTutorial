{
 "cells": [
  {
   "cell_type": "markdown",
   "metadata": {},
   "source": [
    "# Multi-Layer Perceptron w/ TensorFlow\n",
    "\n",
    "In this tutorial, we will build simple MLP (Multi-Layer Perceptron) model. \n",
    "\n",
    "It has 3 hidden layers and output layer for logistic regression. Each layers' number of units 100 at default, but you can change any size of units later on.\n",
    "\n",
    "\n",
    "## 1. Training Preperation\n",
    "\n",
    "In this session, we will use [MNIST](http://yann.lecun.com/exdb/mnist/) dataset, which contains 50k images of hand-written numbers and their labels.\n",
    "\n",
    "In TensorFlow, you can simply load MNIST dataset with [tensorflow.examples.tutorials.mnist](https://github.com/tensorflow/tensorflow/tree/master/tensorflow/examples/tutorials/mnist) module."
   ]
  },
  {
   "cell_type": "code",
   "execution_count": 7,
   "metadata": {
    "collapsed": false
   },
   "outputs": [
    {
     "name": "stdout",
     "output_type": "stream",
     "text": [
      "Extracting MNIST_data/train-images-idx3-ubyte.gz\n",
      "Extracting MNIST_data/train-labels-idx1-ubyte.gz\n",
      "Extracting MNIST_data/t10k-images-idx3-ubyte.gz\n",
      "Extracting MNIST_data/t10k-labels-idx1-ubyte.gz\n"
     ]
    },
    {
     "data": {
      "text/plain": [
       "<matplotlib.text.Text at 0x7fb0ed8896d0>"
      ]
     },
     "execution_count": 7,
     "metadata": {},
     "output_type": "execute_result"
    },
    {
     "data": {
      "image/png": "[encoded data removed]",
      "text/plain": [
       "<matplotlib.figure.Figure at 0x7fb14c576c10>"
      ]
     },
     "metadata": {},
     "output_type": "display_data"
    }
   ],
   "source": [
    "# load libraries\n",
    "%matplotlib inline\n",
    "import matplotlib.pyplot as plt\n",
    "import matplotlib.ticker as mtick\n",
    "import numpy as np\n",
    "\n",
    "import tensorflow as tf\n",
    "from tensorflow.examples.tutorials.mnist import input_data\n",
    "from tensorflow import nn\n",
    "\n",
    "# some useful functions...\n",
    "def weight_variable(shape):\n",
    "    \"\"\"weight_variable generates a weight variable of a given shape.\"\"\"\n",
    "    initial = tf.truncated_normal(shape, stddev=0.1)\n",
    "    return tf.Variable(initial)\n",
    "\n",
    "def bias_variable(shape):\n",
    "    \"\"\"bias_variable generates a bias variable of a given shape.\"\"\"\n",
    "    initial = tf.constant(0.1, shape=shape)\n",
    "    return tf.Variable(initial)\n",
    "\n",
    "# load data\n",
    "# with one_hot=True, categorical labels (e.g. {1,2,3...}) coded into binary vector form (e.g.{[1,0,0],[0,1,0]...})\n",
    "mnist = input_data.read_data_sets('MNIST_data', one_hot=True)\n",
    "\n",
    "# visual check for the loaded dataset\n",
    "disp_target = 4\n",
    "plt.imshow(mnist.train.images[disp_target].reshape((28,28)),cmap='gray_r')\n",
    "plt.title(\n",
    "    'Train Observation {:d} - Label : {:d}'.format(\n",
    "        disp_target,\n",
    "        np.argmax(mnist.train.labels[disp_target])\n",
    "    )\n",
    ")"
   ]
  },
  {
   "cell_type": "markdown",
   "metadata": {},
   "source": [
    "## 2. Build MLP Architecture From Scratch\n",
    "\n",
    "Now we will build a Multi-Layer Perceptron with 3 Fully-Connected (Dense) Layer. The structure is as below equations:\n",
    "\n",
    "\\begin{align}\n",
    "h_1 & = relu(W_1 \\cdot x + b_1) \\\\\n",
    "h_2 & = relu(W_2 \\cdot h_1 + b_2) \\\\\n",
    "h_3 & = relu(W_3 \\cdot h_2 + b_3) \\\\\n",
    "o & = W_o \\cdot h_3 + b_o \\\\\n",
    "\\end{align}\n",
    "\n",
    "### 2.1. Variable Definition & Initialization w/ Random Number"
   ]
  },
  {
   "cell_type": "code",
   "execution_count": 2,
   "metadata": {
    "collapsed": false
   },
   "outputs": [],
   "source": [
    "# x = input / y = label\n",
    "# first dimension of place holder set as None. With this first dimension can be dynamic size per batch\n",
    "x = tf.placeholder(tf.float32, shape=[None,28*28])\n",
    "y = tf.placeholder(tf.float32, shape=[None,10])\n",
    "\n",
    "# setup parameters\n",
    "W1 = weight_variable([28*28,100])\n",
    "b1 = bias_variable([100])\n",
    "\n",
    "W2 = weight_variable([100,100])\n",
    "b2 = bias_variable([100])\n",
    "\n",
    "W3 = weight_variable([100,100])\n",
    "b3 = bias_variable([100])\n",
    "\n",
    "Wo = weight_variable([100,10])\n",
    "bo = bias_variable([10])"
   ]
  },
  {
   "cell_type": "markdown",
   "metadata": {},
   "source": [
    "### 2.2. Model Building w/ Variables"
   ]
  },
  {
   "cell_type": "code",
   "execution_count": 3,
   "metadata": {
    "collapsed": true
   },
   "outputs": [],
   "source": [
    "# make a inference expression w/ Variables\n",
    "\n",
    "# 3 hidden layers\n",
    "h1 = nn.relu(tf.matmul(x,W1) + b1)\n",
    "h2 = nn.relu(tf.matmul(h1,W2) + b2)\n",
    "h3 = nn.relu(tf.matmul(h2,W3) + b3)\n",
    "\n",
    "# read out layer\n",
    "o = tf.matmul(h3,Wo) + bo"
   ]
  },
  {
   "cell_type": "markdown",
   "metadata": {},
   "source": [
    "### 2.3. Setup Cost Function & Get Train Op\n",
    "\n",
    "In this section, we will define cost function for training. We will at first get a probability distribution over categories from logits by applying Softmax function. After then, it is compared with target distribution (one-hot distribution of labels). We will minimize the distance between the two distributions (inferences and labels) by categorical cross-entropy, so we will finally have a classification model for handwritten digits!\n",
    "\n",
    "\\begin{align}\n",
    "\\underset{W,b}{\\text{min}}\\frac{1}{|M|}\\sum_{x,y\\in M}crossentropy(y,y')\\\\\n",
    "y' = softmax(o)\\\\\n",
    "\\end{align}\n",
    "\n",
    "($M$ here means mini-batch)\n",
    "\n",
    "After we compile cost function, we can have symbolic expression for its gradient. With the computation graph of tensorflow automatically calculate partial derivatives of the cost w.r.t the parametes. Then we can simply plug them in update rule, which is [Stochastic Gradient Descent](https://en.wikipedia.org/wiki/Stochastic_gradient_descent) in our case.\n",
    "\n",
    "$$ W \\leftarrow W - \\alpha \\cdot \\frac{\\partial{C}}{\\partial{W}}$$\n",
    "\n",
    "$$ b \\leftarrow b - \\alpha \\cdot \\frac{\\partial{C}}{\\partial{b}}$$\n",
    "\n",
    "(we ommit the sub letters indicating layer here)\n",
    "\n",
    "($\\alpha$ is learning rate, which is usually set with small number (e.g. 0.01))"
   ]
  },
  {
   "cell_type": "code",
   "execution_count": 4,
   "metadata": {
    "collapsed": true
   },
   "outputs": [],
   "source": [
    "# set cross_entropy loss function with y (target) and o (logits)\n",
    "cross_entropy = tf.reduce_mean(\n",
    "    nn.softmax_cross_entropy_with_logits(\n",
    "        labels=y,\n",
    "        logits=o\n",
    "    )\n",
    ")\n",
    "\n",
    "# then we'll get update rule (train op) here\n",
    "train_step = tf.train.GradientDescentOptimizer(learning_rate=0.1).minimize(cross_entropy)"
   ]
  },
  {
   "cell_type": "markdown",
   "metadata": {},
   "source": [
    "## 3. Traning\n",
    "\n",
    "Now, we have every parts we need. Let's try the first run of DNN training.\n",
    "\n",
    "Before get into running, we will prepare simple evaluation function to check it."
   ]
  },
  {
   "cell_type": "code",
   "execution_count": 5,
   "metadata": {
    "collapsed": false
   },
   "outputs": [],
   "source": [
    "# binary accuracy calculation\n",
    "correct_prediction = tf.equal(tf.argmax(o,1), tf.argmax(y,1))\n",
    "# ...and its mean per feed\n",
    "accuracy = tf.reduce_mean(tf.cast(correct_prediction, tf.float32))"
   ]
  },
  {
   "cell_type": "markdown",
   "metadata": {},
   "source": [
    "Now it's show time!"
   ]
  },
  {
   "cell_type": "code",
   "execution_count": 12,
   "metadata": {
    "collapsed": false
   },
   "outputs": [
    {
     "name": "stdout",
     "output_type": "stream",
     "text": [
      "0th Iteration - Train Acc: 9.00% - Test Acc: 11.49%\n",
      "100th Iteration - Train Acc: 92.00% - Test Acc: 85.94%\n",
      "200th Iteration - Train Acc: 91.00% - Test Acc: 86.47%\n",
      "300th Iteration - Train Acc: 94.00% - Test Acc: 91.31%\n",
      "400th Iteration - Train Acc: 91.00% - Test Acc: 91.89%\n",
      "500th Iteration - Train Acc: 96.00% - Test Acc: 92.34%\n",
      "600th Iteration - Train Acc: 97.00% - Test Acc: 93.58%\n",
      "700th Iteration - Train Acc: 97.00% - Test Acc: 93.50%\n",
      "800th Iteration - Train Acc: 94.00% - Test Acc: 93.67%\n",
      "900th Iteration - Train Acc: 96.00% - Test Acc: 94.44%\n"
     ]
    },
    {
     "data": {
      "text/plain": [
       "<matplotlib.legend.Legend at 0x7fb0ec33ea10>"
      ]
     },
     "execution_count": 12,
     "metadata": {},
     "output_type": "execute_result"
    },
    {
     "data": {
      "image/png": "[encoded data removed]",
      "text/plain": [
       "<matplotlib.figure.Figure at 0x7fb0ec452cd0>"
      ]
     },
     "metadata": {},
     "output_type": "display_data"
    }
   ],
   "source": [
    "m = 100 # batch size\n",
    "n = 1000 # number of batches to train\n",
    "acc_tr = []\n",
    "acc_vl = []\n",
    "\n",
    "# Assume that you have 2GB of GPU memory and want to allocate 512MB:\n",
    "gpu_options = tf.GPUOptions(per_process_gpu_memory_fraction=0.25)\n",
    "\n",
    "# open an session\n",
    "with tf.Session(config=tf.ConfigProto(gpu_options=gpu_options)) as sess:\n",
    "    \n",
    "    # Initialize Variables\n",
    "    sess.run(tf.global_variables_initializer())\n",
    "\n",
    "    for j in xrange(1000):\n",
    "        # here we fetch a batch from dataset\n",
    "        batch = mnist.train.next_batch(m)\n",
    "        # update is conducted by tf\n",
    "        # feed dict is key-value dictionary which\n",
    "        # each keys are placeholder and\n",
    "        # each values are actual value for placeholders\n",
    "        sess.run(train_step,feed_dict={x:batch[0], y:batch[1]})\n",
    "        \n",
    "        if j%100==0:\n",
    "            acc_tr.append(accuracy.eval(feed_dict={x:batch[0], y:batch[1]}))\n",
    "            acc_vl.append(accuracy.eval(feed_dict={x:mnist.test.images, y:mnist.test.labels}))\n",
    "\n",
    "            print(\n",
    "                '{:d}th Iteration - Train Acc: {:.2%} - Test Acc: {:.2%}'.format(\n",
    "                    j,acc_tr[-1],acc_vl[-1]\n",
    "                )\n",
    "            )\n",
    "\n",
    "\n",
    "fig,ax = plt.subplots()\n",
    "ax.plot(acc_tr, label='Training Accuracy')\n",
    "ax.plot(acc_vl, label='Validation Accuracy')\n",
    "ax.grid(True)\n",
    "ax.set_ylabel('Accuracy')\n",
    "ax.set_xlabel('Iteration')\n",
    "ax.set_title('Training Result')\n",
    "ax.legend()"
   ]
  },
  {
   "cell_type": "code",
   "execution_count": null,
   "metadata": {
    "collapsed": true
   },
   "outputs": [],
   "source": []
  }
 ],
 "metadata": {
  "kernelspec": {
   "display_name": "TensorFlowTutorial",
   "language": "python",
   "name": "tensorflow"
  },
  "language_info": {
   "codemirror_mode": {
    "name": "ipython",
    "version": 2
   },
   "file_extension": ".py",
   "mimetype": "text/x-python",
   "name": "python",
   "nbconvert_exporter": "python",
   "pygments_lexer": "ipython2",
   "version": "2.7.12"
  }
 },
 "nbformat": 4,
 "nbformat_minor": 1
}
