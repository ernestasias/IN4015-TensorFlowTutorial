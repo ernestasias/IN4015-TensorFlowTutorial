{
 "cells": [
  {
   "cell_type": "code",
   "execution_count": 39,
   "metadata": {
    "collapsed": true
   },
   "outputs": [],
   "source": [
    "import numpy as np\n",
    "import tensorflow as tf\n",
    "import matplotlib.pyplot as plt"
   ]
  },
  {
   "cell_type": "code",
   "execution_count": 40,
   "metadata": {
    "collapsed": true
   },
   "outputs": [],
   "source": [
    "#Declare parameters\n",
    "learning_rate = 0.01\n",
    "training_epochs = 1000\n",
    "display_step = 50"
   ]
  },
  {
   "cell_type": "code",
   "execution_count": 41,
   "metadata": {
    "collapsed": false
   },
   "outputs": [],
   "source": [
    "#Create training data\n",
    "train_X = np.asarray([3.3,4.4,5.5,6.71,6.93,4.168,9.779,6.182,7.59,2.167,\n",
    "                         7.042,10.791,5.313,7.997,5.654,9.27,3.1])\n",
    "train_Y = np.asarray([1.7,2.76,2.09,3.19,1.694,1.573,3.366,2.596,2.53,1.221,\n",
    "                         2.827,3.465,1.65,2.904,2.42,2.94,1.3])\n",
    "n_samples = train_X.shape[0]"
   ]
  },
  {
   "cell_type": "code",
   "execution_count": 42,
   "metadata": {
    "collapsed": false
   },
   "outputs": [],
   "source": [
    "#Declare inputs and variables\n",
    "x=tf.placeholder(tf.float32)\n",
    "y=tf.placeholder(tf.float32)\n",
    "\n",
    "randomizer=np.random\n",
    "W=tf.Variable(randomizer.randn(), tf.float32, name=\"weight\")\n",
    "b=tf.Variable(randomizer.randn(), tf.float32, name=\"bias\")"
   ]
  },
  {
   "cell_type": "code",
   "execution_count": 43,
   "metadata": {
    "collapsed": false
   },
   "outputs": [],
   "source": [
    "#Declare learning model\n",
    "linear_model=tf.add(tf.multiply(W,x),b)\n",
    "\n",
    "#Model loss\n",
    "loss=tf.reduce_sum(tf.square(linear_model-y)) #sum of squares\n",
    "loss_=tf.reduce_sum(tf.pow(linear_model-y,2))/(2*n_samples) #mean squared error\n",
    "\n",
    "#Optimizer\n",
    "optimizer=tf.train.GradientDescentOptimizer(learning_rate).minimize(loss_)\n"
   ]
  },
  {
   "cell_type": "code",
   "execution_count": 45,
   "metadata": {
    "collapsed": false
   },
   "outputs": [
    {
     "name": "stdout",
     "output_type": "stream",
     "text": [
      "Epoch: 0050 cost= 0.089415096 W= 0.312075 b= 0.351981\n",
      "Epoch: 0100 cost= 0.087975956 W= 0.308359 b= 0.378714\n",
      "Epoch: 0150 cost= 0.086703196 W= 0.304864 b= 0.403857\n",
      "Epoch: 0200 cost= 0.085577667 W= 0.301577 b= 0.427505\n",
      "Epoch: 0250 cost= 0.084582284 W= 0.298485 b= 0.449746\n",
      "Epoch: 0300 cost= 0.083702035 W= 0.295577 b= 0.470665\n",
      "Epoch: 0350 cost= 0.082923643 W= 0.292842 b= 0.490339\n",
      "Epoch: 0400 cost= 0.082235321 W= 0.29027 b= 0.508843\n",
      "Epoch: 0450 cost= 0.081626616 W= 0.287851 b= 0.526247\n",
      "Epoch: 0500 cost= 0.081088401 W= 0.285575 b= 0.542616\n",
      "Epoch: 0550 cost= 0.080612473 W= 0.283435 b= 0.558011\n",
      "Epoch: 0600 cost= 0.080191635 W= 0.281423 b= 0.572491\n",
      "Epoch: 0650 cost= 0.079819508 W= 0.279529 b= 0.586111\n",
      "Epoch: 0700 cost= 0.079490490 W= 0.277749 b= 0.598921\n",
      "Epoch: 0750 cost= 0.079199634 W= 0.276074 b= 0.610968\n",
      "Epoch: 0800 cost= 0.078942508 W= 0.274499 b= 0.622298\n",
      "Epoch: 0850 cost= 0.078715190 W= 0.273018 b= 0.632952\n",
      "Epoch: 0900 cost= 0.078514241 W= 0.271625 b= 0.642974\n",
      "Epoch: 0950 cost= 0.078336589 W= 0.270315 b= 0.652399\n",
      "Epoch: 1000 cost= 0.078179538 W= 0.269083 b= 0.661265\n",
      "Optimization Finished!\n",
      "Training cost= 0.0781795 W= 0.269083 b= 0.661265 \n",
      "\n"
     ]
    },
    {
     "data": {
      "image/png": "[encoded data removed]",
      "text/plain": [
       "<matplotlib.figure.Figure at 0x7fe1d1f32510>"
      ]
     },
     "metadata": {},
     "output_type": "display_data"
    }
   ],
   "source": [
    "#Initialize variables\n",
    "init = tf.global_variables_initializer()\n",
    "\n",
    "#Perform learning\n",
    "with tf.Session() as sess:\n",
    "    sess.run(init)\n",
    "    for i in range(training_epochs):\n",
    "        for (x_, y_) in zip(train_X, train_Y):\n",
    "            sess.run(optimizer, {x:x_, y:y_})\n",
    "\n",
    "    #Display logs per epoch step\n",
    "        if (i+1) % display_step == 0:\n",
    "            c = sess.run(loss_, feed_dict={x: train_X, y:train_Y})\n",
    "            print \"Epoch:\", '%04d' % (i+1), \"cost=\", \"{:.9f}\".format(c), \\\n",
    "                \"W=\", sess.run(W), \"b=\", sess.run(b)\n",
    "\n",
    "    print \"Optimization Finished!\"\n",
    "    training_cost = sess.run(loss_, feed_dict={x: train_X, y: train_Y})\n",
    "    print \"Training cost=\", training_cost, \"W=\", sess.run(W), \"b=\", sess.run(b), '\\n'\n",
    "\n",
    "    #Graphic display\n",
    "    plt.plot(train_X, train_Y, 'ro', label='Original data')\n",
    "    plt.plot(train_X, sess.run(W) * train_X + sess.run(b), label='Fitted line')\n",
    "    plt.legend()\n",
    "    plt.show()"
   ]
  },
  {
   "cell_type": "code",
   "execution_count": null,
   "metadata": {
    "collapsed": true
   },
   "outputs": [],
   "source": []
  }
 ],
 "metadata": {
  "kernelspec": {
   "display_name": "tensorflow",
   "language": "python",
   "name": "tensorflow"
  },
  "language_info": {
   "codemirror_mode": {
    "name": "ipython",
    "version": 2
   },
   "file_extension": ".py",
   "mimetype": "text/x-python",
   "name": "python",
   "nbconvert_exporter": "python",
   "pygments_lexer": "ipython2",
   "version": "2.7.12"
  }
 },
 "nbformat": 4,
 "nbformat_minor": 2
}
