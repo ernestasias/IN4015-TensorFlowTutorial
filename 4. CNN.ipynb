{
 "cells": [
  {
   "cell_type": "markdown",
   "metadata": {},
   "source": [
    "# Convolutional Neural Network w/ TensorFlow\n",
    "\n",
    "In this tutorial, we will build simple CNN(Convolutional Neural Network) model. \n",
    "\n",
    "It has 3 convolution blocks and fully-connected output layer for logistic regression. Each layers' number of units 100 at default, but you can change any size of units later on.\n",
    "\n",
    "(In this tutorial, when we mention **convolution block**, it means a sequence of layers conducting [**convolution**] than [**pooling**].)\n",
    "\n",
    "\n",
    "## 1. Training Preperation\n",
    "\n",
    "As same as the previous secsion, we use [MNIST](http://yann.lecun.com/exdb/mnist/) dataset.\n",
    "\n",
    "In TensorFlow, you can simply load MNIST dataset with [tensorflow.examples.tutorials.mnist](https://github.com/tensorflow/tensorflow/tree/master/tensorflow/examples/tutorials/mnist) module.\n",
    "\n",
    "In this notebook, note that we add helper function for initializing **convolution** and **pooling** layers."
   ]
  },
  {
   "cell_type": "code",
   "execution_count": 1,
   "metadata": {
    "collapsed": false
   },
   "outputs": [
    {
     "name": "stdout",
     "output_type": "stream",
     "text": [
      "Extracting MNIST_data/train-images-idx3-ubyte.gz\n",
      "Extracting MNIST_data/train-labels-idx1-ubyte.gz\n",
      "Extracting MNIST_data/t10k-images-idx3-ubyte.gz\n",
      "Extracting MNIST_data/t10k-labels-idx1-ubyte.gz\n"
     ]
    },
    {
     "data": {
      "text/plain": [
       "<matplotlib.text.Text at 0x7f4bbfd2e210>"
      ]
     },
     "execution_count": 1,
     "metadata": {},
     "output_type": "execute_result"
    },
    {
     "data": {
      "image/png": "[encoded data removed]",
      "text/plain": [
       "<matplotlib.figure.Figure at 0x7f4bea47b790>"
      ]
     },
     "metadata": {},
     "output_type": "display_data"
    }
   ],
   "source": [
    "# load libraries\n",
    "%matplotlib inline\n",
    "import matplotlib.pyplot as plt\n",
    "import matplotlib.ticker as mtick\n",
    "import numpy as np\n",
    "\n",
    "import tensorflow as tf\n",
    "from tensorflow.examples.tutorials.mnist import input_data\n",
    "from tensorflow import nn\n",
    "\n",
    "# some useful functions...\n",
    "def weight_variable(shape):\n",
    "    \"\"\"weight_variable generates a weight variable of a given shape.\"\"\"\n",
    "    initial = tf.truncated_normal(shape, stddev=0.1)\n",
    "    return tf.Variable(initial)\n",
    "\n",
    "def bias_variable(shape):\n",
    "    \"\"\"bias_variable generates a bias variable of a given shape.\"\"\"\n",
    "    initial = tf.constant(0.1, shape=shape)\n",
    "    return tf.Variable(initial)\n",
    "\n",
    "# helper functions for initializing conv2d and max-pooling layer\n",
    "def conv2d(x, W):\n",
    "    return tf.nn.conv2d(x, W, strides=[1, 1, 1, 1], padding='SAME')\n",
    "\n",
    "def max_pool_2x2(x):\n",
    "    return tf.nn.max_pool(x, ksize=[1, 2, 2, 1],\n",
    "                        strides=[1, 2, 2, 1], padding='SAME')\n",
    "\n",
    "# load data\n",
    "# with one_hot=True, categorical labels (e.g. {1,2,3...}) coded into binary vector form (e.g.{[1,0,0],[0,1,0]...})\n",
    "mnist = input_data.read_data_sets('MNIST_data', one_hot=True)\n",
    "\n",
    "# visual check for the loaded dataset\n",
    "disp_target = 4\n",
    "plt.imshow(mnist.train.images[disp_target].reshape((28,28)),cmap='gray_r')\n",
    "plt.title(\n",
    "    'Train Observation {:d} - Label : {:d}'.format(\n",
    "        disp_target,\n",
    "        np.argmax(mnist.train.labels[disp_target])\n",
    "    )\n",
    ")"
   ]
  },
  {
   "cell_type": "markdown",
   "metadata": {},
   "source": [
    "## 2. Build MLP Architecture From Scratch\n",
    "\n",
    "Now we will build a Multi-Layer Perceptron with 3 Fully-Connected (Dense) Layer. The structure is as below equations:\n",
    "\n",
    "\\begin{align}\n",
    "h_1 & = maxpool(relu(W_1 * x + b_1)) \\\\\n",
    "h_2 & = maxpool(relu(W_2 * h_1 + b_2)) \\\\\n",
    "h_3 & = maxpool(relu(W_3 * h_2 + b_3)) \\\\\n",
    "h_4 & = maxpool(relu(W_4 * h_3 + b_4)) \\\\\n",
    "h_5 & = maxpool(relu(W_5 * h_4 + b_5)) \\\\\n",
    "o & = W_o \\cdot h_5 + b_o \\\\\n",
    "\\end{align}\n",
    "\n",
    "### 2.1. Variable Definition & Initialization w/ Random Number"
   ]
  },
  {
   "cell_type": "code",
   "execution_count": 2,
   "metadata": {
    "collapsed": true
   },
   "outputs": [],
   "source": [
    "# x = input / y = label\n",
    "# first dimension of place holder set as None. With this first dimension can be dynamic size per batch\n",
    "x = tf.placeholder(tf.float32, shape=[None,28*28])\n",
    "x_image = tf.reshape(x, [-1,28,28,1]) # need to reshape to feed in convolution layer\n",
    "\n",
    "y = tf.placeholder(tf.float32, shape=[None,10])\n",
    "\n",
    "# setup parameters\n",
    "W1 = weight_variable([3,3,1,32]) # (width,height,input_channel,output_channel)\n",
    "b1 = bias_variable([32]) # (output_channel)\n",
    "\n",
    "W2 = weight_variable([3,3,32,32])\n",
    "b2 = bias_variable([32])\n",
    "\n",
    "W3 = weight_variable([3,3,32,64])\n",
    "b3 = bias_variable([64])\n",
    "\n",
    "W4 = weight_variable([3,3,64,128])\n",
    "b4 = bias_variable([128])\n",
    "\n",
    "W5 = weight_variable([3,3,128,256])\n",
    "b5 = bias_variable([256])\n",
    "\n",
    "Wo = weight_variable([256,10])\n",
    "bo = bias_variable([10])"
   ]
  },
  {
   "cell_type": "markdown",
   "metadata": {},
   "source": [
    "### 2.2. Model Building w/ Variables"
   ]
  },
  {
   "cell_type": "code",
   "execution_count": 3,
   "metadata": {
    "collapsed": false
   },
   "outputs": [],
   "source": [
    "# 3 hidden conv blocks\n",
    "h1 = max_pool_2x2(nn.relu(conv2d(x_image, W1) + b1))\n",
    "h2 = max_pool_2x2(nn.relu(conv2d(h1, W2) + b2))\n",
    "h3 = max_pool_2x2(nn.relu(conv2d(h2, W3) + b3))\n",
    "h4 = max_pool_2x2(nn.relu(conv2d(h3, W4) + b4))\n",
    "h5 = max_pool_2x2(nn.relu(conv2d(h4, W5) + b5))\n",
    "\n",
    "# read out layer\n",
    "# flattening output of last convolution block\n",
    "# (4d tensor -> 2d matrix)\n",
    "h5_shape = h5.get_shape().as_list()\n",
    "fc_dim = np.prod(h5_shape[1:])\n",
    "h5_f = tf.reshape(h5,[-1,fc_dim])\n",
    "\n",
    "# feed it into readout layer (fc)\n",
    "o = tf.matmul(h5_f,Wo) + bo"
   ]
  },
  {
   "cell_type": "markdown",
   "metadata": {},
   "source": [
    "### 2.3. Setup Cost Function & Get Train Op\n",
    "\n",
    "In this section, we will define cost function for training. We will at first get a probability distribution over categories from logits by applying Softmax function. After then, it is compared with target distribution (one-hot distribution of labels). We will minimize the distance between the two distributions (inferences and labels) by categorical cross-entropy, so we will finally have a classification model for handwritten digits!\n",
    "\n",
    "\\begin{align}\n",
    "\\underset{W,b}{\\text{min}}\\frac{1}{|M|}\\sum_{x,y\\in M}crossentropy(y,y')\\\\\n",
    "y' = softmax(o)\\\\\n",
    "\\end{align}\n",
    "\n",
    "($M$ here means mini-batch)\n",
    "\n",
    "After we compile cost function, we can have symbolic expression for its gradient. With the computation graph of tensorflow automatically calculate partial derivatives of the cost w.r.t the parametes. Then we can simply plug them in update rule, which is [Stochastic Gradient Descent](https://en.wikipedia.org/wiki/Stochastic_gradient_descent) in our case.\n",
    "\n",
    "$$ W \\leftarrow W - \\alpha \\cdot \\frac{\\partial{C}}{\\partial{W}}$$\n",
    "\n",
    "$$ b \\leftarrow b - \\alpha \\cdot \\frac{\\partial{C}}{\\partial{b}}$$\n",
    "\n",
    "(we ommit the sub letters indicating layer here)\n",
    "\n",
    "($\\alpha$ is learning rate, which is usually set with small number (e.g. 0.01))"
   ]
  },
  {
   "cell_type": "code",
   "execution_count": 4,
   "metadata": {
    "collapsed": true
   },
   "outputs": [],
   "source": [
    "# set cross_entropy loss function with y (target) and o (logits)\n",
    "cross_entropy = tf.reduce_mean(\n",
    "    nn.softmax_cross_entropy_with_logits(\n",
    "        labels=y,\n",
    "        logits=o\n",
    "    )\n",
    ")\n",
    "\n",
    "# then we'll get update rule (train op) here\n",
    "train_step = tf.train.GradientDescentOptimizer(learning_rate=0.05).minimize(cross_entropy)"
   ]
  },
  {
   "cell_type": "markdown",
   "metadata": {},
   "source": [
    "## 3. Traning\n",
    "\n",
    "Now, we have every parts we need. Let's try the first run of CNN training.\n",
    "\n",
    "Before get into running, we will prepare simple evaluation function to check it."
   ]
  },
  {
   "cell_type": "code",
   "execution_count": 5,
   "metadata": {
    "collapsed": true
   },
   "outputs": [],
   "source": [
    "# binary accuracy calculation\n",
    "correct_prediction = tf.equal(tf.argmax(o,1), tf.argmax(y,1))\n",
    "# ...and its mean per feed\n",
    "accuracy = tf.reduce_mean(tf.cast(correct_prediction, tf.float32))"
   ]
  },
  {
   "cell_type": "code",
   "execution_count": 9,
   "metadata": {
    "collapsed": false
   },
   "outputs": [
    {
     "name": "stdout",
     "output_type": "stream",
     "text": [
      "0th Iteration - Train Acc: 10.94% - Test Acc: 13.28%\n",
      "100th Iteration - Train Acc: 78.52% - Test Acc: 75.78%\n",
      "200th Iteration - Train Acc: 94.92% - Test Acc: 97.66%\n",
      "300th Iteration - Train Acc: 98.44% - Test Acc: 95.31%\n",
      "400th Iteration - Train Acc: 98.05% - Test Acc: 98.44%\n",
      "500th Iteration - Train Acc: 97.27% - Test Acc: 99.22%\n",
      "600th Iteration - Train Acc: 97.66% - Test Acc: 95.31%\n",
      "700th Iteration - Train Acc: 97.66% - Test Acc: 97.66%\n",
      "800th Iteration - Train Acc: 99.61% - Test Acc: 97.66%\n",
      "900th Iteration - Train Acc: 98.83% - Test Acc: 99.22%\n"
     ]
    },
    {
     "data": {
      "text/plain": [
       "<matplotlib.legend.Legend at 0x7f4bb1b916d0>"
      ]
     },
     "execution_count": 9,
     "metadata": {},
     "output_type": "execute_result"
    },
    {
     "data": {
      "image/png": "[encoded data removed]",
      "text/plain": [
       "<matplotlib.figure.Figure at 0x7f4bbc34e890>"
      ]
     },
     "metadata": {},
     "output_type": "display_data"
    }
   ],
   "source": [
    "m = 256 # batch size\n",
    "n = 1000 # number of batches to train\n",
    "acc_tr = []\n",
    "acc_vl = []\n",
    "\n",
    "# Assume that you have 2GB of GPU memory and want to allocate 512MB:\n",
    "gpu_options = tf.GPUOptions(per_process_gpu_memory_fraction=0.25)\n",
    "\n",
    "# open an session\n",
    "with tf.Session(config=tf.ConfigProto(gpu_options=gpu_options)) as sess:\n",
    "\n",
    "    # Initialize Variables\n",
    "    sess.run(tf.global_variables_initializer())\n",
    "\n",
    "    for j in xrange(n):\n",
    "        # here we fetch a batch from dataset\n",
    "        batch = mnist.train.next_batch(m)\n",
    "        # update is conducted by tf\n",
    "        # feed dict is key-value dictionary which\n",
    "        # each keys are placeholder and\n",
    "        # each values are actual value for placeholders\n",
    "        sess.run(train_step,feed_dict={x:batch[0], y:batch[1]})\n",
    "        \n",
    "        if j%100==0:\n",
    "            valid_targets = np.random.choice(mnist.test.images.shape[0],256,replace=False)\n",
    "            acc_tr.append(accuracy.eval(feed_dict={x:batch[0], y:batch[1]}))\n",
    "            acc_vl.append(\n",
    "                accuracy.eval(\n",
    "                    feed_dict={\n",
    "                        x:mnist.test.images[valid_targets],\n",
    "                        y:mnist.test.labels[valid_targets]\n",
    "                    }\n",
    "                )\n",
    "            )\n",
    "            \n",
    "            print(\n",
    "                '{:d}th Iteration - Train Acc: {:.2%} - Test Acc: {:.2%}'.format(\n",
    "                    j,acc_tr[-1],acc_vl[-1]\n",
    "                )\n",
    "            )\n",
    "\n",
    "\n",
    "fig,ax = plt.subplots()\n",
    "ax.plot(acc_tr, label='Training Accuracy')\n",
    "ax.plot(acc_vl, label='Validation Accuracy')\n",
    "ax.grid(True)\n",
    "ax.set_ylabel('Accuracy')\n",
    "ax.set_xlabel('Iteration')\n",
    "ax.set_title('Training Result')\n",
    "ax.legend()"
   ]
  },
  {
   "cell_type": "code",
   "execution_count": null,
   "metadata": {
    "collapsed": true
   },
   "outputs": [],
   "source": []
  }
 ],
 "metadata": {
  "kernelspec": {
   "display_name": "TensorFlowTutorial",
   "language": "python",
   "name": "tensorflow"
  },
  "language_info": {
   "codemirror_mode": {
    "name": "ipython",
    "version": 2
   },
   "file_extension": ".py",
   "mimetype": "text/x-python",
   "name": "python",
   "nbconvert_exporter": "python",
   "pygments_lexer": "ipython2",
   "version": "2.7.12"
  }
 },
 "nbformat": 4,
 "nbformat_minor": 1
}
